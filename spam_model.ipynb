{
 "cells": [
  {
   "cell_type": "code",
   "execution_count": 17,
   "metadata": {},
   "outputs": [],
   "source": [
    "import pandas as pd\n",
    "import numpy as np\n",
    "from sklearn.feature_extraction.text import CountVectorizer\n",
    "from sklearn.model_selection import train_test_split\n",
    "from sklearn.naive_bayes import MultinomialNB\n",
    "from sklearn.metrics import classification_report\n",
    "\n",
    "df = pd.read_csv('spam.csv', encoding=\"latin-1\")\n",
    "\n",
    "df.drop(['Unnamed: 2', 'Unnamed: 3', 'Unnamed: 4'], axis=1, inplace=True)\n",
    "\n",
    "df['label'] = df['v1'].map({'ham': 0, 'spam': 1})\n",
    "df['message'] = df['v2']\n",
    "df.drop(['v1', 'v2'], axis=1, inplace=True)"
   ]
  },
  {
   "cell_type": "code",
   "execution_count": 19,
   "metadata": {},
   "outputs": [],
   "source": [
    "#Creating a BOW model\n",
    "bow_transformer = CountVectorizer().fit_transform(df['message'])"
   ]
  },
  {
   "cell_type": "code",
   "execution_count": 20,
   "metadata": {
    "scrolled": false
   },
   "outputs": [
    {
     "name": "stdout",
     "output_type": "stream",
     "text": [
      "             precision    recall  f1-score   support\n",
      "\n",
      "          0       0.99      0.99      0.99      1587\n",
      "          1       0.93      0.92      0.92       252\n",
      "\n",
      "avg / total       0.98      0.98      0.98      1839\n",
      "\n"
     ]
    }
   ],
   "source": [
    "#Split the data\n",
    "X_train, X_test, y_train, y_test = train_test_split(bow_transformer, df['label'], test_size=0.33, random_state=42)\n",
    "\n",
    "#Naive Bayes Classifier\n",
    "clf = MultinomialNB()\n",
    "clf.fit(X_train,y_train)\n",
    "clf.score(X_test,y_test)\n",
    "\n",
    "#Making the confusion matrix\n",
    "y_pred = clf.predict(X_test)\n",
    "print(classification_report(y_test, y_pred))"
   ]
  },
  {
   "cell_type": "code",
   "execution_count": 21,
   "metadata": {},
   "outputs": [
    {
     "data": {
      "text/plain": [
       "['our_model.pkl']"
      ]
     },
     "execution_count": 21,
     "metadata": {},
     "output_type": "execute_result"
    }
   ],
   "source": [
    "#Creating the model file\n",
    "from sklearn.externals import joblib\n",
    "joblib.dump(clf, 'our_model.pkl')"
   ]
  },
  {
   "cell_type": "markdown",
   "metadata": {},
   "source": [
    "### Further Attempts \n",
    "Further attempts to use NLTK stop "
   ]
  },
  {
   "cell_type": "code",
   "execution_count": 18,
   "metadata": {},
   "outputs": [],
   "source": [
    "from nltk.corpus import stopwords\n",
    "import string\n",
    "\n",
    "\n",
    "sample_text = 'This is a sample message, and it has; one, two, punctuations.'\n",
    "\n",
    "def text_process(sample_text):\n",
    "    # Check characters to see if there are punctuations\n",
    "    nopunctuation = [char for char in sample_text if char not in string.punctuation]\n",
    "\n",
    "    # Join the characters again to form the string.\n",
    "    nopunctuation = ''.join(nopunctuation)\n",
    "    \n",
    "    # Now just remove any stopwords\n",
    "    return [word for word in nopunctuation.split() if word.lower() not in stopwords.words('english')]\n"
   ]
  },
  {
   "cell_type": "code",
   "execution_count": 16,
   "metadata": {},
   "outputs": [
    {
     "name": "stdout",
     "output_type": "stream",
     "text": [
      "confusion matrix: [[1586    1]\n",
      " [  64  188]]\n",
      "classification report:              precision    recall  f1-score   support\n",
      "\n",
      "          0       0.96      1.00      0.98      1587\n",
      "          1       0.99      0.75      0.85       252\n",
      "\n",
      "avg / total       0.97      0.96      0.96      1839\n",
      "\n"
     ]
    },
    {
     "data": {
      "text/plain": [
       "['tfidfVectorizer.pkl']"
      ]
     },
     "execution_count": 16,
     "metadata": {},
     "output_type": "execute_result"
    }
   ],
   "source": [
    "import numpy as np \n",
    "import pandas as pd \n",
    "import matplotlib.pyplot as plt \n",
    "from sklearn.externals import joblib\n",
    "\n",
    "#import the dataset \n",
    "df = pd.read_csv('spam.csv', encoding=\"latin-1\")\n",
    "\n",
    "df.drop(['Unnamed: 2', 'Unnamed: 3', 'Unnamed: 4'], axis=1, inplace=True)\n",
    "df['label'] = df['v1'].map({'ham': 0, 'spam': 1})\n",
    "df['message'] = df['v2']\n",
    "df.drop(['v1', 'v2'], axis=1, inplace=True)\n",
    "\n",
    "#cleaning the dataset\n",
    "import re \n",
    "from nltk.corpus import stopwords\n",
    "from nltk.stem import WordNetLemmatizer\n",
    "corpus = []\n",
    "\n",
    "for i in range(0, 5572):\n",
    "    message = re.sub('[^a-zA-Z]', ' ', df['message'][i])\n",
    "    message = message.lower()\n",
    "    message = message.split()\n",
    "    lemmatizer = WordNetLemmatizer()\n",
    "    message = [lemmatizer.lemmatize(word) for word in message if not word in set(stopwords.words('english'))]\n",
    "    message = ' '.join(message)\n",
    "    corpus.append(message)\n",
    "    \n",
    "#Create BOW model\n",
    "from sklearn.feature_extraction.text import CountVectorizer\n",
    "cv = CountVectorizer(max_features = 2000)\n",
    "X = cv.fit_transform(corpus).toarray()\n",
    "y = dataset.iloc[:, 1].values\n",
    "\n",
    "from sklearn.feature_extraction.text import TfidfVectorizer\n",
    "tfidfVectorizer = TfidfVectorizer(max_features=5572)\n",
    "bow_transformer = tfidfVectorizer.fit_transform(corpus).toarray()\n",
    "\n",
    "#Split the data\n",
    "from sklearn.model_selection import train_test_split \n",
    "X_train, X_test , y_train, y_test = train_test_split(bow_transformer, df['label'] , test_size = 0.33, random_state=42)\n",
    "\n",
    "\n",
    "#Fit Naive Bayes to the training set \n",
    "from sklearn.naive_bayes import MultinomialNB\n",
    "classifier = MultinomialNB()\n",
    "classifier.fit(X_train, y_train) \n",
    "\n",
    " \n",
    "#Predicting the test set results \n",
    "predictions = classifier.predict(X_test)\n",
    "\n",
    "#Making the confusion matrix \n",
    "from sklearn.metrics import confusion_matrix,classification_report\n",
    "cm = confusion_matrix(y_test, predictions) \n",
    "cr = classification_report(y_test,predictions)\n",
    "\n",
    "print('confusion matrix:', cm )\n",
    "print('classification report:', cr )\n",
    "\n",
    "joblib.dump(classifier, 'spam_classifier.pkl')\n",
    "joblib.dump(tfidfVectorizer, 'tfidfVectorizer.pkl')"
   ]
  },
  {
   "cell_type": "code",
   "execution_count": null,
   "metadata": {},
   "outputs": [],
   "source": []
  }
 ],
 "metadata": {
  "kernelspec": {
   "display_name": "Python 3",
   "language": "python",
   "name": "python3"
  },
  "language_info": {
   "codemirror_mode": {
    "name": "ipython",
    "version": 3
   },
   "file_extension": ".py",
   "mimetype": "text/x-python",
   "name": "python",
   "nbconvert_exporter": "python",
   "pygments_lexer": "ipython3",
   "version": "3.6.4"
  }
 },
 "nbformat": 4,
 "nbformat_minor": 2
}
